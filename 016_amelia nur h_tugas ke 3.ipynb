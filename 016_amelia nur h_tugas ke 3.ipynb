{
 "cells": [
  {
   "cell_type": "code",
   "execution_count": 7,
   "id": "8eb49534",
   "metadata": {},
   "outputs": [
    {
     "name": "stdout",
     "output_type": "stream",
     "text": [
      "amel suka tidur \n",
      "amel suka tidur di larut malam dan bangun di\n",
      "mel suka tidur di larut malam dan bangun di pagi hari\n",
      "esairiatamabg  gh\n"
     ]
    }
   ],
   "source": [
    "Tugas pertemuan ke 3\n",
    " \n",
    "1.STRING INDEX adalah\n",
    "->variabel yang menyimpan suatu nilai berupa barisan karakter,\n",
    "->index string dapat menampilkan karakter dengan index tertentu,\n",
    "->index string dimulai menggunakan bilangan bulat dari 0.\n",
    "\n",
    "kegiatan = 'amel suka tidur di larut malam dan bangun di pagi hari'\n",
    "print(kegiatan [0:16])\n",
    "#dari \"0\" index karakter yang mulai dicetak,dan \"16\" batas akhir karakter yang dicetak tetapi \"16\" tidak dicetak.\n",
    "print(kegiatan [:-10])\n",
    "#dari variabel diatas yang dicetak yaitu dari awal karakter,dimana \"-10\" menjadi batas akhir karakter,dan sama dengan artinya 10 karakter dikiri tidak dicetak.\n",
    "print(kegiatan [1:])\n",
    "#dari \"1\" indek karakter akan dicetak,sampai akhir karakter karena tidak ada batas akhir di variabel yang di masukkan.\n",
    "print(kegiatan[2:-1:3])\n",
    "#dari (2) index akan dicetak \"e\",dari (-1) karakter tidak dicetak dari sebelah kanan yaitu \"i\",dan untuk (3) dia loncat 3 kali (kelipatan 3) dari kiri bisa,dari kanan bisa tapi -1 tetep kehapus 1 huruf \"e\".\n"
   ]
  },
  {
   "cell_type": "code",
   "execution_count": null,
   "id": "6cfb8648",
   "metadata": {},
   "outputs": [],
   "source": [
    "----------------------------spasi-------------------------------"
   ]
  },
  {
   "cell_type": "code",
   "execution_count": null,
   "id": "b62f2cb2",
   "metadata": {},
   "outputs": [],
   "source": [
    "2. STRING METHODS \n",
    "   adalah fungsi atau prosedur yang dibuat didalam suatau class.\n",
    "berikut adalah beberapa contoh string method :"
   ]
  },
  {
   "cell_type": "code",
   "execution_count": 21,
   "id": "41fba697",
   "metadata": {},
   "outputs": [],
   "source": [
    "univ = 'Universitas Udayana dan Universitas Jember'"
   ]
  },
  {
   "cell_type": "code",
   "execution_count": 22,
   "id": "0d3d4e90",
   "metadata": {},
   "outputs": [
    {
     "name": "stdout",
     "output_type": "stream",
     "text": [
      "42\n"
     ]
    }
   ],
   "source": [
    "print(len(univ))\n",
    "#menghitung jumlah huruf pada string."
   ]
  },
  {
   "cell_type": "code",
   "execution_count": 23,
   "id": "7ff6efe4",
   "metadata": {},
   "outputs": [
    {
     "data": {
      "text/plain": [
       "'UNIVERSITAS UDAYANA DAN UNIVERSITAS JEMBER'"
      ]
     },
     "execution_count": 23,
     "metadata": {},
     "output_type": "execute_result"
    }
   ],
   "source": [
    "->upper\n",
    "\n",
    "univ.upper()\n",
    "#mengubah semua karakter pada string menjadi huruf kapital (besar)."
   ]
  },
  {
   "cell_type": "code",
   "execution_count": 24,
   "id": "5554e294",
   "metadata": {},
   "outputs": [
    {
     "data": {
      "text/plain": [
       "'universitas udayana dan universitas jember'"
      ]
     },
     "execution_count": 24,
     "metadata": {},
     "output_type": "execute_result"
    }
   ],
   "source": [
    "->lower\n",
    "\n",
    "univ.lower()\n",
    "#mengubah semua karakter pada string menjadi huruf kecil."
   ]
  },
  {
   "cell_type": "code",
   "execution_count": 27,
   "id": "32eb8a16",
   "metadata": {},
   "outputs": [
    {
     "data": {
      "text/plain": [
       "12"
      ]
     },
     "execution_count": 27,
     "metadata": {},
     "output_type": "execute_result"
    }
   ],
   "source": [
    "->find contoh 1\n",
    "\n",
    "univ.find('Udayana')\n",
    "#muncul urutan yang ke ... dari kata (Udayana)"
   ]
  },
  {
   "cell_type": "code",
   "execution_count": 30,
   "id": "e4726f71",
   "metadata": {},
   "outputs": [
    {
     "data": {
      "text/plain": [
       "-1"
      ]
     },
     "execution_count": 30,
     "metadata": {},
     "output_type": "execute_result"
    }
   ],
   "source": [
    "->find contoh 2\n",
    "\n",
    "univ.find('universitas')\n",
    "#tidak dapat muncul urutannya yang ke berapa,karena tidak ada huruf kapital seperti kalimat awal."
   ]
  },
  {
   "cell_type": "code",
   "execution_count": 31,
   "id": "15b931f1",
   "metadata": {},
   "outputs": [
    {
     "data": {
      "text/plain": [
       "'Perguruan Tinggi Udayana dan Perguruan Tinggi Jember'"
      ]
     },
     "execution_count": 31,
     "metadata": {},
     "output_type": "execute_result"
    }
   ],
   "source": [
    "->replace\n",
    "\n",
    "univ.replace('Universitas','Perguruan Tinggi')\n",
    "#mengganti kata Universitas menjadi Perguruan Tinggi,tetapi harus sama ttep diperhatikan huruf kapitalnya."
   ]
  },
  {
   "cell_type": "code",
   "execution_count": 35,
   "id": "37061953",
   "metadata": {},
   "outputs": [
    {
     "name": "stdout",
     "output_type": "stream",
     "text": [
      "True\n"
     ]
    }
   ],
   "source": [
    "print('Universitas' in univ)\n",
    "#kata 'Universitas' benar krn sama dg yg diawal ada huruf kapital"
   ]
  },
  {
   "cell_type": "code",
   "execution_count": 36,
   "id": "ab520347",
   "metadata": {},
   "outputs": [
    {
     "name": "stdout",
     "output_type": "stream",
     "text": [
      "False\n"
     ]
    }
   ],
   "source": [
    "print('universitas' in univ)\n",
    "#kata 'universitas' salah ,krn tdk sama dgn kata awalan,tdk ada huruf kapital"
   ]
  },
  {
   "cell_type": "code",
   "execution_count": null,
   "id": "19f83e0c",
   "metadata": {},
   "outputs": [],
   "source": [
    "-----------------------------spasi------------------------------"
   ]
  },
  {
   "cell_type": "code",
   "execution_count": 23,
   "id": "7e64bdb1",
   "metadata": {},
   "outputs": [
    {
     "name": "stdout",
     "output_type": "stream",
     "text": [
      "a + b = 17\n",
      "a - b = 9\n",
      "a * b = 52\n",
      "a % b = 1\n",
      "a / b = 3.25\n",
      "a // b = 3\n",
      "a ** b = 28561\n"
     ]
    }
   ],
   "source": [
    "3.OPERASI MATEMATIKA\n",
    "-> contoh 1\n",
    "\n",
    "a = 13\n",
    "b = 4\n",
    "\n",
    "print('a + b =',a + b)    #penjumlahan\n",
    "print('a - b =',a - b)    #pengurangan\n",
    "print('a * b =',a * b)    #perkalian\n",
    "print('a % b =',a % b)    #modulo\n",
    "print('a / b =',a / b)    #pembagian\n",
    "print('a // b =',a // b)  #pembulatan pembagian\n",
    "print('a ** b =',a ** b)  #pemangkatan"
   ]
  },
  {
   "cell_type": "code",
   "execution_count": 24,
   "id": "7f1acfc4",
   "metadata": {},
   "outputs": [
    {
     "name": "stdout",
     "output_type": "stream",
     "text": [
      "52\n"
     ]
    }
   ],
   "source": [
    "->contoh 2 \n",
    "\n",
    "x=50\n",
    "x+=2\n",
    "print(x)  #penjumlahan pada variabel x"
   ]
  },
  {
   "cell_type": "code",
   "execution_count": 25,
   "id": "429cf521",
   "metadata": {},
   "outputs": [
    {
     "name": "stdout",
     "output_type": "stream",
     "text": [
      "12\n"
     ]
    }
   ],
   "source": [
    "->contoh 3\n",
    "\n",
    "y=22\n",
    "y-=10\n",
    "print(y) #pengurangan pada variabel y"
   ]
  },
  {
   "cell_type": "code",
   "execution_count": 26,
   "id": "6b13fb6f",
   "metadata": {},
   "outputs": [
    {
     "name": "stdout",
     "output_type": "stream",
     "text": [
      "200\n"
     ]
    }
   ],
   "source": [
    "->contoh 4\n",
    "\n",
    "x=20\n",
    "x*=10\n",
    "print(x) #pemangkatan pada variabel x"
   ]
  },
  {
   "cell_type": "code",
   "execution_count": null,
   "id": "954f6306",
   "metadata": {},
   "outputs": [],
   "source": [
    "-------------------------------spasi-------------------------------"
   ]
  },
  {
   "cell_type": "code",
   "execution_count": 33,
   "id": "0ba347ae",
   "metadata": {},
   "outputs": [
    {
     "name": "stdout",
     "output_type": "stream",
     "text": [
      "a > b : True\n",
      "a < b : False\n",
      "a == b : False\n",
      "a != b : True\n",
      "a >= b : True\n",
      "a <= b : False\n"
     ]
    }
   ],
   "source": [
    "4.OPERASI PERBANDINGAN\n",
    "->contoh\n",
    "\n",
    "a = 9\n",
    "b = 4\n",
    "\n",
    "print('a > b :',a>b)    #lebih besar\n",
    "print('a < b :',a<b)    #lebih kecil\n",
    "print('a == b :',a==b)  #sama dengan\n",
    "print('a != b :',a!=b)  #tidak sama dengan\n",
    "print('a >= b :',a>=b)  #lebih besar sama dengan\n",
    "print('a <= b :',a<=b)  #lebih kecil sama dengan"
   ]
  },
  {
   "cell_type": "code",
   "execution_count": null,
   "id": "2acd7e3c",
   "metadata": {},
   "outputs": [],
   "source": [
    "-------------------------------spasi-----------------------------"
   ]
  },
  {
   "cell_type": "code",
   "execution_count": 36,
   "id": "6da4e4a9",
   "metadata": {},
   "outputs": [
    {
     "name": "stdout",
     "output_type": "stream",
     "text": [
      "False and True = False\n",
      "False or True = True\n",
      "not False = True\n"
     ]
    }
   ],
   "source": [
    "5.OPERASI LOGIKA\n",
    "-> contoh 1\n",
    "\n",
    "x = False\n",
    "y = True\n",
    "\n",
    "#logika and\n",
    "A = x and y\n",
    "print ('False and True =', A)\n",
    "\n",
    "#logika or\n",
    "A = x or y\n",
    "print ('False or True =', A)\n",
    "\n",
    "#logika not\n",
    "A = not x\n",
    "print ('not False =', A)\n"
   ]
  },
  {
   "cell_type": "code",
   "execution_count": 38,
   "id": "34823b60",
   "metadata": {},
   "outputs": [
    {
     "name": "stdout",
     "output_type": "stream",
     "text": [
      "False\n",
      "True\n"
     ]
    }
   ],
   "source": [
    "-> contoh 2\n",
    "#menentukan nilai kebenaran\n",
    "\n",
    "angsa_kakinya = 2\n",
    "sapi_kakinya = 4\n",
    "\n",
    "print(angsa_kakinya > 2 and sapi_kakinya <5)\n",
    "print(angsa_kakinya > 1 or sapi_kakinya <2)"
   ]
  },
  {
   "cell_type": "code",
   "execution_count": null,
   "id": "c7e33d78",
   "metadata": {},
   "outputs": [],
   "source": [
    "-----------------------------spasi---------------------------------"
   ]
  },
  {
   "cell_type": "code",
   "execution_count": 41,
   "id": "143c794f",
   "metadata": {},
   "outputs": [
    {
     "name": "stdout",
     "output_type": "stream",
     "text": [
      "Masukkan usia anda :3\n",
      "\n",
      "Kategori : Balita\n",
      "wah masi kicik sekali kamu yaa\n"
     ]
    }
   ],
   "source": [
    "6.OPERATOR IF \n",
    "->contoh \n",
    "\n",
    "usia =float(input(\"Masukkan usia anda :\"))\n",
    "print ()\n",
    "if usia >=0 and usia <=4 :\n",
    "    print ('Kategori : Balita')\n",
    "    print('wah masi kicik sekali kamu yaa')\n",
    "if usia >=5 and usia <12 :\n",
    "    print ('Kategori : Anak-Anak')\n",
    "    print('wiedee sudah sekolah TK ni yaa')\n",
    "if usia >=13 and usia <=17 :\n",
    "    print ('Kategori : Remaja')\n",
    "    print ('Semangat sekolahnya yaa')\n",
    "if usia >=18 and usia <=50 :\n",
    "    print ('Kategori : Dewasa')\n",
    "    print ('semangat yaaa')\n",
    "if usia >=50 :\n",
    "    print ('Kategori : Lansia')\n",
    "    print ('jangan lupa jaga kesehatnnya ka nek/kek')"
   ]
  },
  {
   "cell_type": "code",
   "execution_count": null,
   "id": "5334e9b3",
   "metadata": {},
   "outputs": [],
   "source": []
  },
  {
   "cell_type": "code",
   "execution_count": null,
   "id": "4447f887",
   "metadata": {},
   "outputs": [],
   "source": []
  },
  {
   "cell_type": "code",
   "execution_count": null,
   "id": "f67b05f1",
   "metadata": {},
   "outputs": [],
   "source": []
  },
  {
   "cell_type": "code",
   "execution_count": null,
   "id": "6298086c",
   "metadata": {},
   "outputs": [],
   "source": []
  },
  {
   "cell_type": "code",
   "execution_count": null,
   "id": "7c92ee49",
   "metadata": {},
   "outputs": [],
   "source": []
  },
  {
   "cell_type": "code",
   "execution_count": null,
   "id": "3a072ee7",
   "metadata": {},
   "outputs": [],
   "source": []
  },
  {
   "cell_type": "code",
   "execution_count": null,
   "id": "29b84da3",
   "metadata": {},
   "outputs": [],
   "source": []
  },
  {
   "cell_type": "code",
   "execution_count": null,
   "id": "df814b29",
   "metadata": {},
   "outputs": [],
   "source": []
  },
  {
   "cell_type": "code",
   "execution_count": null,
   "id": "e4af5ef2",
   "metadata": {},
   "outputs": [],
   "source": []
  }
 ],
 "metadata": {
  "kernelspec": {
   "display_name": "Python 3 (ipykernel)",
   "language": "python",
   "name": "python3"
  },
  "language_info": {
   "codemirror_mode": {
    "name": "ipython",
    "version": 3
   },
   "file_extension": ".py",
   "mimetype": "text/x-python",
   "name": "python",
   "nbconvert_exporter": "python",
   "pygments_lexer": "ipython3",
   "version": "3.9.13"
  }
 },
 "nbformat": 4,
 "nbformat_minor": 5
}
