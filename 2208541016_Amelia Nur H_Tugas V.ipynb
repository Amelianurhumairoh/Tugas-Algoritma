{
 "cells": [
  {
   "cell_type": "markdown",
   "id": "aaf42d75",
   "metadata": {},
   "source": [
    "AMELIA NUR HUMAIROH \n",
    "   / 2208541016"
   ]
  },
  {
   "cell_type": "markdown",
   "id": "a2e486bc",
   "metadata": {},
   "source": [
    "# 5.16 LIST 2 DIMENSI"
   ]
  },
  {
   "cell_type": "markdown",
   "id": "d6e41df3",
   "metadata": {},
   "source": [
    "  List dua dimensi dalam phyton dikatakan sebagai suatu list berisi list lagi ,biasanya untuk mepresentasikan matriks menggunakan list dua dimensi ini. sedangkan list dalam pemrograman phyton sendiri bisa dikatakan sebagai struktur data yang paling dasar adalah urutan atau list,dan juga setiap elemen-elemennya berurutan akan diberi nomor posisi atau indeksnya.Indeks pertama dalam list dimulai dari nol, satu, dua, tiga dan seterusnya.\n",
    "  "
   ]
  },
  {
   "cell_type": "code",
   "execution_count": 5,
   "id": "d5bc7a99",
   "metadata": {},
   "outputs": [
    {
     "name": "stdout",
     "output_type": "stream",
     "text": [
      "[[5, 0, 8], [2, 6, 7], [1, 3, 4]]\n"
     ]
    },
    {
     "data": {
      "text/plain": [
       "[2, 6, 7]"
      ]
     },
     "execution_count": 5,
     "metadata": {},
     "output_type": "execute_result"
    }
   ],
   "source": [
    "# input terlebih dulu matriks yang kita ingin jalankan.\n",
    "# ingat untuk mengakses dalam list phyton,gunakan tada kurung siku untuk mengiris beserta indeks,atau untuk mendapatkan nilai yang tersedia pada indeks tersebut.\n",
    "matriks = [\n",
    "    [5,0,8],\n",
    "    [2,6,7],\n",
    "    [1,3,4],\n",
    "]\n",
    "print(matriks) \n",
    "#mencetak semua indeks data yang ada pada matriks\n",
    "matriks[1]\n",
    "#mencetak  indeks baris ke 2 (dimulai dari 2,6,7)"
   ]
  },
  {
   "cell_type": "code",
   "execution_count": 7,
   "id": "228f3ac2",
   "metadata": {},
   "outputs": [
    {
     "data": {
      "text/plain": [
       "[[5, 0, 8], [2, 6, 7], [1, 3, 4]]"
      ]
     },
     "execution_count": 7,
     "metadata": {},
     "output_type": "execute_result"
    }
   ],
   "source": [
    "#mengikuti input matriks yang pertama pada contoh selanjutnya \n",
    "matriks[1][2]  #mencetak indeks data yang berasal dari baris ke 2 kolom ke 3"
   ]
  },
  {
   "cell_type": "code",
   "execution_count": 8,
   "id": "cb7234ce",
   "metadata": {},
   "outputs": [
    {
     "data": {
      "text/plain": [
       "[[5, 0, 8], [2, 6, 7], [1, 3, 4]]"
      ]
     },
     "execution_count": 8,
     "metadata": {},
     "output_type": "execute_result"
    }
   ],
   "source": [
    "matriks\n",
    "#mencetak semua indeks data yg di panggil"
   ]
  },
  {
   "cell_type": "code",
   "execution_count": 10,
   "id": "1cc67017",
   "metadata": {},
   "outputs": [
    {
     "name": "stdout",
     "output_type": "stream",
     "text": [
      "200\n"
     ]
    }
   ],
   "source": [
    "matriks[1][2]=200\n",
    "print(matriks[1][2])\n",
    "#mengganti indeks data pada matriks baris ke dua kolom ke 3 dengan data 200"
   ]
  },
  {
   "cell_type": "code",
   "execution_count": 11,
   "id": "58b703ba",
   "metadata": {},
   "outputs": [
    {
     "name": "stdout",
     "output_type": "stream",
     "text": [
      "[5, 0, 8]\n",
      "5\n",
      "0\n",
      "8\n",
      "[2, 6, 200]\n",
      "2\n",
      "6\n",
      "200\n",
      "[1, 3, 4]\n",
      "1\n",
      "3\n",
      "4\n"
     ]
    }
   ],
   "source": [
    "for baris in matriks:\n",
    "    print (baris)\n",
    "    for kolom in baris:\n",
    "        print (kolom)\n",
    "#memanggil anggota dari list 2 dimensi dengan model baris pada matriks,dan kolom pada baris."
   ]
  },
  {
   "cell_type": "markdown",
   "id": "0e70aa80",
   "metadata": {},
   "source": [
    "# 5.17 TUPLES"
   ]
  },
  {
   "cell_type": "raw",
   "id": "beaba723",
   "metadata": {},
   "source": [
    " Tuples adalah urutan objek pada phyton yang tidak berubah.Perbedaanya dengan list phyton adalah bahwa pada tuples tidak dapat diubah dan juga pada tuples menggunakan tanda kurung biasa,sedangkan pada list phyton menggunakan tanda kurung siku."
   ]
  },
  {
   "cell_type": "code",
   "execution_count": 15,
   "id": "fca6da12",
   "metadata": {},
   "outputs": [
    {
     "name": "stdout",
     "output_type": "stream",
     "text": [
      "100\n",
      "(100, 90, 50, 60)\n"
     ]
    }
   ],
   "source": [
    "#input indeks data terlebih dahulu yang ingin dijalankan.\n",
    "#pada tuple dapat memasukkan nila-nilai yang dipisahkan koma di antara tanda kurung juga.\n",
    "#pada tuple juga sama yaitu nilai-nilainya dimulai dari nol,satu dua dan seterusnya.\n",
    "nilai = (100,90,50,60,70)\n",
    "print(nilai[0])           #mencetak nilai data pada urutan 0\n",
    "print(nilai[0:4])         #mencetak nilai data mulai urutan 0 sampai batas 4,tapi 4 tidak ikut dicetak."
   ]
  },
  {
   "cell_type": "code",
   "execution_count": 24,
   "id": "04881df0",
   "metadata": {},
   "outputs": [
    {
     "ename": "TypeError",
     "evalue": "'tuple' object does not support item assignment",
     "output_type": "error",
     "traceback": [
      "\u001b[1;31m---------------------------------------------------------------------------\u001b[0m",
      "\u001b[1;31mTypeError\u001b[0m                                 Traceback (most recent call last)",
      "\u001b[1;32m~\\AppData\\Local\\Temp\\ipykernel_18360\\4260432998.py\u001b[0m in \u001b[0;36m<module>\u001b[1;34m\u001b[0m\n\u001b[1;32m----> 1\u001b[1;33m \u001b[0mnilai\u001b[0m\u001b[1;33m[\u001b[0m\u001b[1;36m0\u001b[0m\u001b[1;33m]\u001b[0m \u001b[1;33m=\u001b[0m \u001b[1;36m200\u001b[0m\u001b[1;33m\u001b[0m\u001b[1;33m\u001b[0m\u001b[0m\n\u001b[0m",
      "\u001b[1;31mTypeError\u001b[0m: 'tuple' object does not support item assignment"
     ]
    }
   ],
   "source": [
    "nilai[0] = 200\n",
    "#aksi seperti ini tidak bisa dilakukan pada tuple phyton,karena memang nilai pada tuple phyton tidak dapat di ubah.\n",
    "#jadi jika ingin maka buatlah tuple baru\n",
    "#maka tidak akan muncul nilainya "
   ]
  },
  {
   "cell_type": "code",
   "execution_count": 27,
   "id": "143d2aff",
   "metadata": {},
   "outputs": [
    {
     "ename": "AttributeError",
     "evalue": "'tuple' object has no attribute 'append'",
     "output_type": "error",
     "traceback": [
      "\u001b[1;31m---------------------------------------------------------------------------\u001b[0m",
      "\u001b[1;31mAttributeError\u001b[0m                            Traceback (most recent call last)",
      "\u001b[1;32m~\\AppData\\Local\\Temp\\ipykernel_18360\\1001585042.py\u001b[0m in \u001b[0;36m<module>\u001b[1;34m\u001b[0m\n\u001b[1;32m----> 1\u001b[1;33m \u001b[0mnilai\u001b[0m\u001b[1;33m.\u001b[0m\u001b[0mappend\u001b[0m\u001b[1;33m(\u001b[0m\u001b[1;36m100\u001b[0m\u001b[1;33m)\u001b[0m\u001b[1;33m\u001b[0m\u001b[1;33m\u001b[0m\u001b[0m\n\u001b[0m",
      "\u001b[1;31mAttributeError\u001b[0m: 'tuple' object has no attribute 'append'"
     ]
    }
   ],
   "source": [
    "nilai.append(100)\n",
    "#tidak akan munculnilainya karena benar tidak bisa pada tuple phyton."
   ]
  },
  {
   "cell_type": "code",
   "execution_count": 30,
   "id": "cbb7edcb",
   "metadata": {},
   "outputs": [
    {
     "ename": "ValueError",
     "evalue": "tuple.index(x): x not in tuple",
     "output_type": "error",
     "traceback": [
      "\u001b[1;31m---------------------------------------------------------------------------\u001b[0m",
      "\u001b[1;31mValueError\u001b[0m                                Traceback (most recent call last)",
      "\u001b[1;32m~\\AppData\\Local\\Temp\\ipykernel_18360\\920478313.py\u001b[0m in \u001b[0;36m<module>\u001b[1;34m\u001b[0m\n\u001b[1;32m----> 1\u001b[1;33m \u001b[0mnilai\u001b[0m\u001b[1;33m.\u001b[0m\u001b[0mindex\u001b[0m\u001b[1;33m(\u001b[0m\u001b[1;36m4\u001b[0m\u001b[1;33m)\u001b[0m\u001b[1;33m\u001b[0m\u001b[1;33m\u001b[0m\u001b[0m\n\u001b[0m",
      "\u001b[1;31mValueError\u001b[0m: tuple.index(x): x not in tuple"
     ]
    }
   ],
   "source": [
    "nilai.index(4) #tidak ada pada indeks tuple phyton,maka benar tidak bisa muncul hasilnya. (error)"
   ]
  },
  {
   "cell_type": "code",
   "execution_count": null,
   "id": "240845f9",
   "metadata": {},
   "outputs": [],
   "source": [
    "nilai.remove (3) #pada tuple tidak ada objek untuk remove\n",
    "#jika ingin menghapus menggunakan statement (del)\n",
    "#lalu buat kembali tuple yang diinginkan."
   ]
  },
  {
   "cell_type": "code",
   "execution_count": null,
   "id": "ad4483fe",
   "metadata": {},
   "outputs": [],
   "source": [
    "del nilai"
   ]
  },
  {
   "cell_type": "code",
   "execution_count": 40,
   "id": "ada8d951",
   "metadata": {},
   "outputs": [
    {
     "name": "stdout",
     "output_type": "stream",
     "text": [
      "setelah menghapus nilai : ('buku', 'kimia', 2023)\n"
     ]
    }
   ],
   "source": [
    "#jika sudah terhapus buat kembali tuple baru dengan elemen yang diinginkan\n",
    "tuple = ('buku', 'kimia',2023)\n",
    "print (\"setelah menghapus nilai :\", tuple)\n",
    "#maka akan muncul indeks data tuple lagi yang sudah kita input baru."
   ]
  },
  {
   "cell_type": "markdown",
   "id": "06864c4d",
   "metadata": {},
   "source": [
    "# 5. 18 DICTIONARIES"
   ]
  },
  {
   "cell_type": "markdown",
   "id": "f46de501",
   "metadata": {},
   "source": [
    " Dictionaries Phyton berbeda dengan list ataupun tuples, karena setiap urutannya berisi key dan value,setiap key dipisahkan dari valuenya oleh titik dua (:), setiap data/nilainya dipisahkan oleh koma, dan semuanya tertutup dalam kurung kurawal.Dictionaries digunakan jika datanya terkait satu sama lain."
   ]
  },
  {
   "cell_type": "code",
   "execution_count": 50,
   "id": "75ccf8ce",
   "metadata": {},
   "outputs": [],
   "source": [
    "#masukkan indeks data yang ingin kita jalankan\n",
    "data_mahasiswa= {\n",
    "    \"nama\" : \"Amelia\",\n",
    "    \"umur\"  : 18,\n",
    "    \"Fakultas\" : \"Fmipa\"\n",
    "}"
   ]
  },
  {
   "cell_type": "code",
   "execution_count": 57,
   "id": "643a1efc",
   "metadata": {},
   "outputs": [
    {
     "name": "stdout",
     "output_type": "stream",
     "text": [
      "Amelia\n",
      "Amelia\n",
      "9-7-2004\n",
      "{'nama': 'Amelia', 'umur': 18, 'Fakultas': 'Fmipa', 'HP': '085804431002'}\n",
      "085804431002\n",
      "{'nama': 'Amelia', 'umur': 18, 'Fakultas': 'Fmipa', 'HP': '085804431002'}\n"
     ]
    }
   ],
   "source": [
    "print(data_mahasiswa['nama'])\n",
    "print(data_mahasiswa.get ('nama')) #mencetak nama yang dinginkan\n",
    "print(data_mahasiswa.get('tanggal_lahir', '9-7-2004')) #menambah cetak tanggal lahir pada data yang dijalankan\n",
    "print(data_mahasiswa)              #mencetak data mahasiswa pada indeks yang dijalankan.\n",
    "data_mahasiswa ['HP'] = '085804431002' #menambah indeks data (hp) pada data yang kita jalankan\n",
    "print(data_mahasiswa['HP'])\n",
    "print(data_mahasiswa) #mencetak data yang terbaru dengan tambahan nomor hp yang kita massukkan."
   ]
  },
  {
   "cell_type": "code",
   "execution_count": 68,
   "id": "b6310ed4",
   "metadata": {},
   "outputs": [],
   "source": [
    "#contoh mengubah dari angka menjadi kata,\n",
    "#masukan dulu input yang diinginkan\n",
    "angka ={\n",
    "    '0'     : \"nol\",\n",
    "    '1'     : 'satu',\n",
    "    '2'     : 'dua',\n",
    "    '3'     : 'tiga',\n",
    "    '4'     : 'empat',\n",
    "    '5'     : \"lima\",\n",
    "}"
   ]
  },
  {
   "cell_type": "code",
   "execution_count": 69,
   "id": "be611acc",
   "metadata": {},
   "outputs": [
    {
     "name": "stdout",
     "output_type": "stream",
     "text": [
      "Masukkan nomor meja anda 4\n",
      "empat \n"
     ]
    }
   ],
   "source": [
    "#ingin menjalankan indeks data mengubah angka menjadi kata /huruf dengan input di atas\n",
    "daftar_harga = input('Masukkan nomor meja anda ')\n",
    "nomor_angka = \"\"\n",
    "for isi in daftar_harga :\n",
    "    nomor_angka += angka.get(isi) + \" \"\n",
    "print(nomor_angka)"
   ]
  },
  {
   "cell_type": "markdown",
   "id": "d6724caf",
   "metadata": {},
   "source": [
    "# 5.19 FUNGSI DALAM PHYTON"
   ]
  },
  {
   "cell_type": "markdown",
   "id": "25b2624f",
   "metadata": {},
   "source": [
    " Fungsi adalah kumpulan perintah atau baris kode yang dikelompokkan menjadi satu kesatuan untuk kemudian bisa di panggil atau digunakan berkali-kali.\n",
    "#sebuah fungsi bisa menerima parameter,bisa mengembalikan suatu nilai,dan juga bisa dipanggil berkali-kali secara independen.\n",
    "#fugsi blok dimulai dengan \"def\" kata kunci diikuti oleh nama fungsi dan tanda kurung().\n",
    "#Blok kode dalam setiap fungsi dimulai dengan titik dua(:)\n",
    "#setiap parameter yang ingin dimausukkan harus berada di dalam tanda kurung."
   ]
  },
  {
   "cell_type": "code",
   "execution_count": 74,
   "id": "a253aa68",
   "metadata": {
    "scrolled": true
   },
   "outputs": [
    {
     "name": "stdout",
     "output_type": "stream",
     "text": [
      "Perkenalkan saya Amelia nur humairoh dari Jawa timur\n"
     ]
    }
   ],
   "source": [
    "#contoh memanggil fungsi\n",
    "def perkenalan (nama, asal):\n",
    "    print(f\"Perkenalkan saya {nama} dari {asal}\")\n",
    "perkenalan(\"Amelia nur humairoh\", \"Jawa timur\")"
   ]
  },
  {
   "cell_type": "code",
   "execution_count": 3,
   "id": "c6ae43aa",
   "metadata": {},
   "outputs": [
    {
     "name": "stdout",
     "output_type": "stream",
     "text": [
      "Toyota Rush\n",
      "Harga Toyota Rush 2023 Rp. 305.000.000\n"
     ]
    }
   ],
   "source": [
    "#masukkan fungsi yang mau kita jalankan terlebih dahulu\n",
    "def mobil():\n",
    "    print('Toyota Rush')\n",
    "    \n",
    "def harga():\n",
    "    print('Harga Toyota Rush 2023 Rp. 305.000.000')\n",
    "\n",
    "mobil()  #memanggil fungsi mobil\n",
    "harga()  # memanggil fungsi harga"
   ]
  },
  {
   "cell_type": "code",
   "execution_count": 5,
   "id": "c847ed51",
   "metadata": {},
   "outputs": [
    {
     "name": "stdout",
     "output_type": "stream",
     "text": [
      "Nama  : Amelia Nur\n",
      "Umur  : 18 tahun\n",
      "Kelas : 12 mipa 2\n",
      "Nilai : 88\n"
     ]
    }
   ],
   "source": [
    "#contoh untuk ingin mencetak data siswa \n",
    "nama = \"Amelia Nur\"\n",
    "umur = 18\n",
    "kelas = \"12 mipa 2\"\n",
    "nilai = 88\n",
    "\n",
    "print( \"Nama  :\", nama)\n",
    "print( \"Umur  :\", umur, \"tahun\")\n",
    "print( \"Kelas :\", kelas)\n",
    "print( \"Nilai :\", nilai)"
   ]
  },
  {
   "cell_type": "code",
   "execution_count": 7,
   "id": "ad2deda2",
   "metadata": {},
   "outputs": [
    {
     "name": "stdout",
     "output_type": "stream",
     "text": [
      "Nama  : Putri\n",
      "Umur  : 18 tahun\n",
      "Kelas : 12 ips 2\n",
      "Nilai : 78\n",
      "\n",
      "Nama  : Dandi\n",
      "Umur  : 18 tahun\n",
      "Kelas : 12 mipa 1\n",
      "Nilai : 92\n",
      "\n",
      "Nama  : Dewi\n",
      "Umur  : 17 tahun\n",
      "Kelas : 10 mipa 2\n",
      "Nilai : 88\n",
      "\n"
     ]
    }
   ],
   "source": [
    "#contoh untuk mencetak data dengan kode seperti diatas tetapi dengan jummlah lebih banyak siswa yang lain.\n",
    "#deklarasi fungsi 'data_siswa'\n",
    "def data_siswa(nama, umur, kelas, nilai):\n",
    "    print( \"Nama  :\", nama)\n",
    "    print( \"Umur  :\", umur, \"tahun\")\n",
    "    print( \"Kelas :\", kelas)\n",
    "    print( \"Nilai :\", nilai)\n",
    "    print()  # untuk menambah baris kosong\n",
    "    \n",
    "#memanggil fungsi 'data_siswa'\n",
    "data_siswa(\"Putri\", 18, \"12 ips 2\", 78)\n",
    "data_siswa(\"Dandi\", 18, \"12 mipa 1\", 92)\n",
    "data_siswa(\"Dewi\", 17, \"10 mipa 2\", 88)"
   ]
  },
  {
   "cell_type": "code",
   "execution_count": 9,
   "id": "b392394f",
   "metadata": {},
   "outputs": [
    {
     "name": "stdout",
     "output_type": "stream",
     "text": [
      "Nama     : Putri\n",
      "Umur     : 18 tahun\n",
      "Kelas    : 12 ips 2\n",
      "Nilai    : 78\n",
      "Predikat : C\n",
      "\n",
      "Nama     : Dandi\n",
      "Umur     : 18 tahun\n",
      "Kelas    : 12 mipa 1\n",
      "Nilai    : 92\n",
      "Predikat : A\n",
      "\n",
      "Nama     : Dewi\n",
      "Umur     : 17 tahun\n",
      "Kelas    : 10 mipa 2\n",
      "Nilai    : 88\n",
      "Predikat : B\n",
      "\n"
     ]
    }
   ],
   "source": [
    "#contoh untuk deklarasi fungsi 'data-siswa' ditambah dengan predikatnya\n",
    "def data_siswa(nama, umur, kelas, nilai):\n",
    "#lalu kita juga bisa membuat dulu predikat nilainya\n",
    "    predikat = ''\n",
    "    if nilai > 90:\n",
    "        predikat = 'A'\n",
    "    elif nilai > 80:\n",
    "        predikat = 'B'\n",
    "    elif nilai > 70:\n",
    "        predikat = 'C'\n",
    "    else:\n",
    "        predikat = 'D'\n",
    "    \n",
    "    print( \"Nama     :\", nama)\n",
    "    print( \"Umur     :\", umur, \"tahun\")\n",
    "    print( \"Kelas    :\", kelas)\n",
    "    print( \"Nilai    :\", nilai)\n",
    "    print( \"Predikat :\", predikat)\n",
    "    print()  # untuk menambah baris kosong\n",
    "    \n",
    "#memanggil fungsi 'data_siswa'\n",
    "data_siswa(\"Putri\", 18, \"12 ips 2\", 78)\n",
    "data_siswa(\"Dandi\", 18, \"12 mipa 1\", 92)\n",
    "data_siswa(\"Dewi\", 17, \"10 mipa 2\", 88)"
   ]
  },
  {
   "cell_type": "markdown",
   "id": "28970cdb",
   "metadata": {},
   "source": [
    "# 5. 20 NUMPY"
   ]
  },
  {
   "cell_type": "markdown",
   "id": "8eead4a9",
   "metadata": {},
   "source": [
    " Numpy (Numerical Phyton) adalah library Phyton yang fokus pada scientific computing. Numpy menyediakan fungsi yang siap pakai untuk memudahkan kita melakukan perhitungan saintifik seperti matriks,aljabar,statistik,dan sebagainya."
   ]
  },
  {
   "cell_type": "code",
   "execution_count": 10,
   "id": "1c2aa528",
   "metadata": {},
   "outputs": [],
   "source": [
    " import numpy as np"
   ]
  },
  {
   "cell_type": "markdown",
   "id": "30f73537",
   "metadata": {},
   "source": [
    "# 5.20.1 Perintah dasar pada Numpy"
   ]
  },
  {
   "cell_type": "code",
   "execution_count": 21,
   "id": "dcdf4d0c",
   "metadata": {
    "scrolled": true
   },
   "outputs": [
    {
     "name": "stdout",
     "output_type": "stream",
     "text": [
      "[0 1 2 3 4 5 6]\n",
      "\n",
      "[[ 1  2  3  4]\n",
      " [ 5  6  7  8]\n",
      " [ 9 10 11 12]]\n"
     ]
    }
   ],
   "source": [
    "#masukkan dulu indeks yang ingin dijalankan\n",
    "x =np.array ([0,1,2,3,4,5,6,])\n",
    "print (x)     #memanggil data seperti biasanya\n",
    "print()       # membuat baris kosong\n",
    "y=np.array ([[1,2,3,4],[5,6,7,8],[9,10,11,12]])\n",
    "print (y)"
   ]
  },
  {
   "cell_type": "code",
   "execution_count": 22,
   "id": "32639ca5",
   "metadata": {},
   "outputs": [
    {
     "data": {
      "text/plain": [
       "1"
      ]
     },
     "execution_count": 22,
     "metadata": {},
     "output_type": "execute_result"
    }
   ],
   "source": [
    "x.ndim"
   ]
  },
  {
   "cell_type": "code",
   "execution_count": 23,
   "id": "a66be83c",
   "metadata": {},
   "outputs": [
    {
     "data": {
      "text/plain": [
       "2"
      ]
     },
     "execution_count": 23,
     "metadata": {},
     "output_type": "execute_result"
    }
   ],
   "source": [
    "y.ndim"
   ]
  },
  {
   "cell_type": "code",
   "execution_count": 24,
   "id": "33610aee",
   "metadata": {},
   "outputs": [
    {
     "data": {
      "text/plain": [
       "(7,)"
      ]
     },
     "execution_count": 24,
     "metadata": {},
     "output_type": "execute_result"
    }
   ],
   "source": [
    "x.shape"
   ]
  },
  {
   "cell_type": "markdown",
   "id": "3d319670",
   "metadata": {},
   "source": [
    "# 5.20.2 Memanggil anggota,kolom dan baris dengan Numpy"
   ]
  },
  {
   "cell_type": "code",
   "execution_count": 29,
   "id": "5af07c4c",
   "metadata": {},
   "outputs": [
    {
     "name": "stdout",
     "output_type": "stream",
     "text": [
      "5\n",
      "\n",
      "[[1 2 3]\n",
      " [4 5 6]\n",
      " [7 8 9]]\n",
      "\n",
      "[4 5 6]\n"
     ]
    }
   ],
   "source": [
    "#contoh memanggil pada matriks\n",
    "#ingat list array itu indeksnya selalu dimulai dari nol.\n",
    "\n",
    "matriks_np = np.array([[1,2,3],\n",
    "                       [4,5,6],\n",
    "                       [7,8,9]])\n",
    "print(matriks_np[1][1]) #mau memanggil angka yang beradadikolom ke -1 dan bari ke-1\n",
    "print()\n",
    "print(matriks_np)       #memanggil semua data yang ada pada matriks\n",
    "print()\n",
    "print(matriks_np [1,:]) #memanggil data pada baris 1"
   ]
  },
  {
   "cell_type": "code",
   "execution_count": 30,
   "id": "38f852cb",
   "metadata": {},
   "outputs": [
    {
     "name": "stdout",
     "output_type": "stream",
     "text": [
      "[70 78 90 88]\n",
      "88\n"
     ]
    }
   ],
   "source": [
    "#membuat array\n",
    "nilai_siswa = np.array([70, 78, 90, 88])\n",
    "print(nilai_siswa)\n",
    "print(nilai_siswa[3]) # ingin memanggil data pada array nilai ke (3)"
   ]
  },
  {
   "cell_type": "markdown",
   "id": "b0ab59f8",
   "metadata": {},
   "source": [
    "# 5.20.3 Matriks pada Numpy"
   ]
  },
  {
   "cell_type": "code",
   "execution_count": 73,
   "id": "cf806d0a",
   "metadata": {},
   "outputs": [
    {
     "name": "stdout",
     "output_type": "stream",
     "text": [
      "[[0. 0. 0. 0. 0.]\n",
      " [0. 0. 0. 0. 0.]\n",
      " [0. 0. 0. 0. 0.]\n",
      " [0. 0. 0. 0. 0.]\n",
      " [0. 0. 0. 0. 0.]]\n",
      "\n",
      "[[1. 0. 0. 0. 0. 0. 0. 0.]\n",
      " [0. 1. 0. 0. 0. 0. 0. 0.]\n",
      " [0. 0. 1. 0. 0. 0. 0. 0.]\n",
      " [0. 0. 0. 1. 0. 0. 0. 0.]\n",
      " [0. 0. 0. 0. 1. 0. 0. 0.]\n",
      " [0. 0. 0. 0. 0. 1. 0. 0.]\n",
      " [0. 0. 0. 0. 0. 0. 1. 0.]\n",
      " [0. 0. 0. 0. 0. 0. 0. 1.]]\n",
      "\n",
      "[[6. 0. 0. 0. 0. 0. 0. 0.]\n",
      " [0. 6. 0. 0. 0. 0. 0. 0.]\n",
      " [0. 0. 6. 0. 0. 0. 0. 0.]\n",
      " [0. 0. 0. 6. 0. 0. 0. 0.]\n",
      " [0. 0. 0. 0. 6. 0. 0. 0.]\n",
      " [0. 0. 0. 0. 0. 6. 0. 0.]\n",
      " [0. 0. 0. 0. 0. 0. 6. 0.]\n",
      " [0. 0. 0. 0. 0. 0. 0. 6.]]\n"
     ]
    }
   ],
   "source": [
    "#contoh membuat matriks \n",
    "a = np.zeros((5,5))\n",
    "print(a) #mencetak matriks dengan 5 baris dan 5 kolom\n",
    "print()\n",
    "b= np.identity(8) #mencetak matriks dengan identitasnya ada 8\n",
    "print(b)\n",
    "print()\n",
    "c=6*b\n",
    "print(c) #mengganti identitas 1 dengan 6"
   ]
  },
  {
   "cell_type": "markdown",
   "id": "f82c6cbf",
   "metadata": {},
   "source": [
    "# 5.20.4 Copy pada Numpy"
   ]
  },
  {
   "cell_type": "markdown",
   "id": "e70e1b35",
   "metadata": {},
   "source": [
    "Copy memiliki data dan perubahan apapun yang dilakukan pada copy tidak akan memengaruhi array asli, dan perubahan apa pun yang dibuat pada array asli tidak akan memengaruhi copy."
   ]
  },
  {
   "cell_type": "code",
   "execution_count": 36,
   "id": "c8ccf204",
   "metadata": {},
   "outputs": [
    {
     "name": "stdout",
     "output_type": "stream",
     "text": [
      "[0 1 2 3 4 5 6]\n",
      "\n",
      "[0 1 2 3 4 5 6]\n",
      "[5 6 7 8 9]\n",
      "[10  6  7  8  9]\n"
     ]
    }
   ],
   "source": [
    "#masukkan dulu indeks yang ingin dijalankan\n",
    "x =np.array ([0,1,2,3,4,5,6,])\n",
    "print (x)    #memanggil data seperti biasanya\n",
    "print()      #membuat baris kosong\n",
    "\n",
    "y=x\n",
    "print (y)    #jika nilai y = x bisa langsung memanggil dengan kode y=x\n",
    "\n",
    "z = np.array([5,6,7,8,9])\n",
    "print(z)\n",
    "q = z.copy() #langsung mengkopi data bila q = z\n",
    "q[0] = 10    #mengganti nilai 0 dengan 10 pada indeks q \n",
    "print (q)"
   ]
  },
  {
   "cell_type": "markdown",
   "id": "55371af5",
   "metadata": {},
   "source": [
    "# 5.20.5 Operasi Matematika pada Numpy"
   ]
  },
  {
   "cell_type": "code",
   "execution_count": 38,
   "id": "1164e323",
   "metadata": {},
   "outputs": [
    {
     "name": "stdout",
     "output_type": "stream",
     "text": [
      "hasil sinus 45 derajat adalah  0.7071067811865476\n",
      "hasil cosinus 45 derajat adalah  0.7071067811865476\n",
      "hasil tangen 45 derajat adalah  0.9999999999999999\n"
     ]
    }
   ],
   "source": [
    "#contoh untuk menggunakan operasi sin,cos,tan \n",
    "import math\n",
    "radian = math.radians(45.0)\n",
    "hasil_sinus =math.sin(radian)\n",
    "hasil_cosinus =math.cos(radian)\n",
    "hasil_tangen =math.tan(radian)\n",
    "\n",
    "print(\"hasil sinus 45 derajat adalah \", hasil_sinus)\n",
    "print(\"hasil cosinus 45 derajat adalah \", hasil_cosinus)\n",
    "print(\"hasil tangen 45 derajat adalah \", hasil_tangen)"
   ]
  },
  {
   "cell_type": "code",
   "execution_count": 43,
   "id": "db3778fa",
   "metadata": {},
   "outputs": [
    {
     "data": {
      "text/plain": [
       "array([-2, -1,  0,  1,  2,  3,  4])"
      ]
     },
     "execution_count": 43,
     "metadata": {},
     "output_type": "execute_result"
    }
   ],
   "source": [
    "#masukkan dulu indeks yang ingin dijalankan\n",
    "x =np.array ([0,1,2,3,4,5,6,])\n",
    "y = np.array([5,6,7,8,9])\n",
    "\n",
    "x-2 #pada matriks nilainya berkurang 2"
   ]
  },
  {
   "cell_type": "code",
   "execution_count": 44,
   "id": "bcb4c4e9",
   "metadata": {},
   "outputs": [
    {
     "data": {
      "text/plain": [
       "array([10, 12, 14, 16, 18])"
      ]
     },
     "execution_count": 44,
     "metadata": {},
     "output_type": "execute_result"
    }
   ],
   "source": [
    "y*2 #pada matriks y nilainya dikalikan 2"
   ]
  },
  {
   "cell_type": "code",
   "execution_count": 45,
   "id": "1445ef40",
   "metadata": {},
   "outputs": [
    {
     "data": {
      "text/plain": [
       "array([ 1.        ,  0.54030231, -0.41614684, -0.9899925 , -0.65364362,\n",
       "        0.28366219,  0.96017029])"
      ]
     },
     "execution_count": 45,
     "metadata": {},
     "output_type": "execute_result"
    }
   ],
   "source": [
    "np.cos(x) #nilai cosinus untuk matriks x"
   ]
  },
  {
   "cell_type": "markdown",
   "id": "84bfe8b1",
   "metadata": {},
   "source": [
    "# 5.20.6 Perkalian Matriks pada Numpy"
   ]
  },
  {
   "cell_type": "code",
   "execution_count": 53,
   "id": "90eec37a",
   "metadata": {},
   "outputs": [
    {
     "name": "stdout",
     "output_type": "stream",
     "text": [
      "[[41 67]\n",
      " [53 87]]\n",
      "\n",
      "[[41 67]\n",
      " [53 87]]\n"
     ]
    }
   ],
   "source": [
    "#masukkan dulu indeks yang ingin dijalankan\n",
    "A= [[6,7],\n",
    "    [8,9]]\n",
    "\n",
    "B= [[1,3],\n",
    "    [5,7]]\n",
    "print(np.dot(A,B)) #bisa menggunakan kode ini untu mengalikan matriks AB\n",
    "print()\n",
    "print(np.matmul(A,B)) #kode ini juga sama dengan dot di atas\n"
   ]
  },
  {
   "cell_type": "markdown",
   "id": "2650e641",
   "metadata": {},
   "source": [
    "# 5.20.7 Min, Max dan Sum pada Numpy"
   ]
  },
  {
   "cell_type": "code",
   "execution_count": 62,
   "id": "e8ca688d",
   "metadata": {},
   "outputs": [
    {
     "name": "stdout",
     "output_type": "stream",
     "text": [
      "[[1 2 3]\n",
      " [4 5 6]\n",
      " [7 8 9]]\n",
      "\n",
      "1\n",
      "\n",
      "[1 2 3]\n",
      "\n",
      "9\n",
      "\n",
      "45\n"
     ]
    }
   ],
   "source": [
    "#contoh 1\n",
    "matriks =np.array([[1,2,3],\n",
    "                   [4,5,6],\n",
    "                   [7,8,9]])\n",
    "print(matriks)\n",
    "print()            #membuat baris kosong\n",
    "A= np.min(matriks) #kode mengakses min pada matriks\n",
    "print(A)\n",
    "print()            #membuat baris kosong\n",
    "B=np.min(matriks,axis=0) #mencetak matriks 0\n",
    "print(B)\n",
    "print()\n",
    "C=np.max(matriks)  #kode mengakses max pada matriks\n",
    "print(C)\n",
    "print()\n",
    "D=np.sum(matriks)  #kode mengangkes sum pada matriks\n",
    "print(D)"
   ]
  },
  {
   "cell_type": "code",
   "execution_count": 66,
   "id": "19a2a870",
   "metadata": {},
   "outputs": [
    {
     "name": "stdout",
     "output_type": "stream",
     "text": [
      "Nilai minimalnya adalah =  50\n",
      "Nilai maksimalnya adalah =  90\n",
      "Nilai rata-ratanya adalah =  68.33333333333333\n",
      "Jumlah Nilainya adalah =  410\n"
     ]
    }
   ],
   "source": [
    "#contoh 2\n",
    "#masukkan dulu indeks yang ingin dijalankan\n",
    "\n",
    "nilai = np.array([80,50,60,75,90,55])\n",
    "print('Nilai minimalnya adalah = ',nilai.min())\n",
    "print('Nilai maksimalnya adalah = ',nilai.max())\n",
    "print('Nilai rata-ratanya adalah = ',nilai.mean())\n",
    "print('Jumlah Nilainya adalah = ',nilai.sum())"
   ]
  }
 ],
 "metadata": {
  "kernelspec": {
   "display_name": "Python 3 (ipykernel)",
   "language": "python",
   "name": "python3"
  },
  "language_info": {
   "codemirror_mode": {
    "name": "ipython",
    "version": 3
   },
   "file_extension": ".py",
   "mimetype": "text/x-python",
   "name": "python",
   "nbconvert_exporter": "python",
   "pygments_lexer": "ipython3",
   "version": "3.9.13"
  }
 },
 "nbformat": 4,
 "nbformat_minor": 5
}
