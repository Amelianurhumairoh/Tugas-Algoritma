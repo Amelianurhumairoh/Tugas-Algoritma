{
 "cells": [
  {
   "cell_type": "code",
   "execution_count": 1,
   "id": "24255864",
   "metadata": {},
   "outputs": [
    {
     "name": "stdout",
     "output_type": "stream",
     "text": [
      "1000\n",
      "200\n",
      "350\n",
      "71000\n"
     ]
    }
   ],
   "source": [
    "buku = 1000\n",
    "penggaris = 200\n",
    "pensil = 350\n",
    "print (buku)\n",
    "print (penggaris)\n",
    "print (pensil)\n",
    "print(buku + pensil * penggaris)\n",
    "\n",
    "#waktu proses run lancar pak,belom ada kendala.Tapi maaf pak saya ini buat lagi di rumah,soalnya waktu saya nyoba yang di kampus\n",
    " itu ga bisa ke save pak,masi ada kendala yang error kemaren itu pak,terus sama pak gautama disuruh buat restart laptopnya,dan \n",
    " sekarang dah berhasil nge saved sendiri pak,sudah tidak error lagi."
   ]
  },
  {
   "cell_type": "code",
   "execution_count": 8,
   "id": "f02b9ef5",
   "metadata": {},
   "outputs": [
    {
     "name": "stdout",
     "output_type": "stream",
     "text": [
      "saya sedang mencoba apakah bisa dan tentunya alhamdulillah bisa hehe\n"
     ]
    }
   ],
   "source": [
    "print ('saya sedang mencoba apakah bisa dan tentunya alhamdulillah bisa hehe')\n",
    "# untuk ini aman pak belom ada kendala.tapi saya tadinnya mau mencoba biar bisa tulisannya turun kebawah tapi ga bisa pak,lupa kodenya,tadinya saya coba make  ternyata salah pak.\n",
    "pak izin bertanya,ternyata kalau tulisan komennya saya taruh bawah ternyata kalo saya run dia ngikut juga pak,jadinya error.Tapi kalo tetep di samping jadinya terlalu panjang pak."
   ]
  },
  {
   "cell_type": "code",
   "execution_count": 7,
   "id": "8a35b242",
   "metadata": {},
   "outputs": [
    {
     "ename": "SyntaxError",
     "evalue": "invalid syntax (1365330769.py, line 6)",
     "output_type": "error",
     "traceback": [
      "\u001b[1;36m  File \u001b[1;32m\"C:\\Users\\62878\\AppData\\Local\\Temp\\ipykernel_5948\\1365330769.py\"\u001b[1;36m, line \u001b[1;32m6\u001b[0m\n\u001b[1;33m    print(' wahh terimakasih ya sudah mau berbagi cerita' + 'semoga hari-harimu  bahagia selalu,sampai jumpa ' + nama panggilan + '!')\u001b[0m\n\u001b[1;37m                                                                                                                      ^\u001b[0m\n\u001b[1;31mSyntaxError\u001b[0m\u001b[1;31m:\u001b[0m invalid syntax\n"
     ]
    }
   ],
   "source": [
    "jenis = input('apakah kamu manusia?')\n",
    "hidup = input('kalau manusia kamu hidup di alam mana?')\n",
    "nama = input('kalau boleh tahu siapa namamu?')\n",
    "panggilan = input('nama panggilan kamu siapa?')\n",
    "kehidupan = input('apakah hidupmu menyenangkan?')\n",
    "print(' wahh terimakasih ya sudah mau berbagi cerita' + 'semoga hari-harimu  bahagia selalu,sampai jumpa ' + nama panggilan + '!')\n",
    "# ada kendala sedikit pak,tadi waktu saya run tiba-tiba ada tanda * disamping In,seperti yang bapak bilang kemarin itu tandanya loading ,apa mungkin karena saya ganti-ganti terus katanya ya pak,tapi tetep gabisa muncul hasilnya pak.\n"
   ]
  },
  {
   "cell_type": "code",
   "execution_count": 10,
   "id": "a85a6ddb",
   "metadata": {},
   "outputs": [
    {
     "name": "stdout",
     "output_type": "stream",
     "text": [
      "hallo nama kamu siapa?Amelia Nur Humairoh\n",
      "emm nama panggilannya siapa?amell\n",
      "kalau boleh tahu sekarang amell kerja atau masih kuliah?kuliah\n",
      "wahh kalau begitu semangat terus yah kuliahnyaaa,semoga lancar terus kedepannya\n"
     ]
    }
   ],
   "source": [
    "nama = input ('hallo nama kamu siapa?')\n",
    "panggilan =input ('emm nama panggilannya siapa?')\n",
    "pekerjaan= input ( 'kalau boleh tahu sekarang ' + panggilan + ' kerja atau masih kuliah?')\n",
    "print ( 'wahh kalau begitu semangat terus yah ' + pekerjaan + 'nyaaa,semoga lancar terus kedepannya')\n",
    "# pak maaf ini kenapa ya pak tadi pertama saya run sudah mau muncul pak,tapi ada salah kata jadinya saya benerin dulu,terus saya run lagi tiba tiba muncul * jadinya tidak bisa saya run pak.tapi pak waktu akhir-akhir saya restart lagi akhirnya bisa ke run pak."
   ]
  },
  {
   "cell_type": "code",
   "execution_count": 4,
   "id": "88f9ce04",
   "metadata": {},
   "outputs": [
    {
     "ename": "SyntaxError",
     "evalue": "invalid syntax (3508635557.py, line 2)",
     "output_type": "error",
     "traceback": [
      "\u001b[1;36m  File \u001b[1;32m\"C:\\Users\\62878\\AppData\\Local\\Temp\\ipykernel_5948\\3508635557.py\"\u001b[1;36m, line \u001b[1;32m2\u001b[0m\n\u001b[1;33m    nama pendek = input ('panggilannya siapa?')\u001b[0m\n\u001b[1;37m         ^\u001b[0m\n\u001b[1;31mSyntaxError\u001b[0m\u001b[1;31m:\u001b[0m invalid syntax\n"
     ]
    }
   ],
   "source": [
    "nama = input ( 'nama kamu siapa?' )\n",
    "nama pendek = input ('panggilannya siapa?')\n",
    "asal = ('kamu sekarang tinggal dimana' + nama pendek )\n",
    "pekerjaan =('kalau boleh tahu kamu masih kuiah atau sudah bekerja?')\n",
    "print = ('wahh semangat ya' + pekerjaan + 'nya,semogaa lancar terus kedepannya.')\n",
    "# pak maaf ini ada kendala di baris ke 2 sudah saya benerin,saya cek ulang-ulang tapi tetep aja ada salah pak,kira-kira kenapa ya pak?"
   ]
  },
  {
   "cell_type": "code",
   "execution_count": 5,
   "id": "cbe8e077",
   "metadata": {},
   "outputs": [
    {
     "name": "stdout",
     "output_type": "stream",
     "text": [
      "nama kamu siapa?ameliaa\n",
      "alamat mu dimana ameliaadi denpasar selatan\n",
      "kamu sekarang kuliah atau kerja?masi kuliah\n",
      "wahh kalau begitu semangat terus yaa ameliaa\n"
     ]
    }
   ],
   "source": [
    "nama = input (\"nama kamu siapa?\")\n",
    "asal = input (\"alamat mu dimana \" + nama)\n",
    "pekerjaan = input (\"kamu sekarang kuliah atau kerja?\")\n",
    "print (\"wahh kalau begitu semangat terus yaa \" + nama)\n",
    "#  maaf pak tapi yang ini setelah saya kernel restart akhirnya bisa ke run pak,tapi yang diatas tetep gamau ke run,walaupun sudah di restart."
   ]
  },
  {
   "cell_type": "code",
   "execution_count": 6,
   "id": "f05003b4",
   "metadata": {},
   "outputs": [
    {
     "name": "stdout",
     "output_type": "stream",
     "text": [
      "maaf yah aku mau nanya,kira-kira berapakah jumlah uang di dompetmu sekarang kawan hehe?259000\n",
      "emm kalau uangmu yang di atm berapa?4560000\n",
      "berarti total uangmu di dompet yaitu Rp4819000\n"
     ]
    }
   ],
   "source": [
    "dompet = input( \"maaf yah aku mau nanya,kira-kira berapakah jumlah uang di dompetmu sekarang kawan hehe?\")\n",
    "Atm = input(\"emm kalau uangmu yang di atm berapa?\")\n",
    "total = int (dompet) + int (Atm)\n",
    "print (\"berarti total uangmu di dompet yaitu Rp\" + str(total))\n"
   ]
  },
  {
   "cell_type": "code",
   "execution_count": 2,
   "id": "4b54693c",
   "metadata": {},
   "outputs": [
    {
     "ename": "SyntaxError",
     "evalue": "invalid syntax (350880949.py, line 3)",
     "output_type": "error",
     "traceback": [
      "\u001b[1;36m  File \u001b[1;32m\"C:\\Users\\62878\\AppData\\Local\\Temp\\ipykernel_5948\\350880949.py\"\u001b[1;36m, line \u001b[1;32m3\u001b[0m\n\u001b[1;33m    dapat diskon = int(total) - int(diskon)\u001b[0m\n\u001b[1;37m          ^\u001b[0m\n\u001b[1;31mSyntaxError\u001b[0m\u001b[1;31m:\u001b[0m invalid syntax\n"
     ]
    }
   ],
   "source": [
    "belanja = input('belanjaan kamu habis berapa jadinya?')\n",
    "diskon = input('katanya ada diskon besar-besaran ya,kamu dapat diskon berapa nih?')\n",
    "dapat diskon = int(total) - int(diskon)\n",
    "print ('wahh jadinya kamu cuman tinggal bayar Rp' + str (dapat diskon)+ \" murah banget yaaa\")\n",
    "#pak maaf ini saya nyoba yang baru pak,tapi kenapa ya pak baris ketiga kok salah gabisa muncul pak,padahal sudah saya kasih awalan int nya pak"
   ]
  },
  {
   "cell_type": "code",
   "execution_count": null,
   "id": "59fe9554",
   "metadata": {},
   "outputs": [],
   "source": [
    "# pak mohon maaf saya bertanya lagi,kenapa ya pak file saya ini gabisa ke save di folder laptop,jadinya harus saya save as terlebih dahulu,dan itupun tetep ga mau muncul di folder pak.tapi sewaktu saya buka jupyter ada pak filenya di bawah sendiri,gimana ya pak solusinya biar filenya langsung ke simpan di laptop saya.terima kasih pak."
   ]
  },
  {
   "cell_type": "code",
   "execution_count": null,
   "id": "27b36369",
   "metadata": {},
   "outputs": [],
   "source": []
  }
 ],
 "metadata": {
  "kernelspec": {
   "display_name": "Python 3 (ipykernel)",
   "language": "python",
   "name": "python3"
  },
  "language_info": {
   "codemirror_mode": {
    "name": "ipython",
    "version": 3
   },
   "file_extension": ".py",
   "mimetype": "text/x-python",
   "name": "python",
   "nbconvert_exporter": "python",
   "pygments_lexer": "ipython3",
   "version": "3.9.13"
  }
 },
 "nbformat": 4,
 "nbformat_minor": 5
}
