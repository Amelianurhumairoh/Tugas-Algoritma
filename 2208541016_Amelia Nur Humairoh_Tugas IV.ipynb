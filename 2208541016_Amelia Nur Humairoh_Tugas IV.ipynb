{
 "cells": [
  {
   "cell_type": "markdown",
   "id": "8a7407c7",
   "metadata": {},
   "source": [
    "TUGAS MINGGU KE 4"
   ]
  },
  {
   "cell_type": "markdown",
   "id": "099f17c9",
   "metadata": {},
   "source": [
    "5.11 METODE WHILE LOOP"
   ]
  },
  {
   "cell_type": "code",
   "execution_count": null,
   "id": "a1bb0a4d",
   "metadata": {},
   "outputs": [],
   "source": [
    "x= 0\n",
    "while x < 8:\n",
    "    x = x**2\n",
    "    x = +1\n",
    "print(x)"
   ]
  },
  {
   "cell_type": "code",
   "execution_count": null,
   "id": "fbb7bc52",
   "metadata": {},
   "outputs": [],
   "source": [
    "a = 0\n",
    "while a < 5:\n",
    "    a = a**2\n",
    "    a = + 1\n",
    "# jika loading maka hasilnya benar"
   ]
  },
  {
   "cell_type": "code",
   "execution_count": 2,
   "id": "c7ef5662",
   "metadata": {},
   "outputs": [
    {
     "name": "stdout",
     "output_type": "stream",
     "text": [
      "Angka 0 masih dibawah 8\n",
      "Angka 1 masih dibawah 8\n",
      "Angka 2 masih dibawah 8\n",
      "Angka 3 masih dibawah 8\n",
      "Angka 4 masih dibawah 8\n",
      "Angka 5 masih dibawah 8\n",
      "Angka 6 masih dibawah 8\n",
      "Angka 7 masih dibawah 8\n"
     ]
    }
   ],
   "source": [
    "z = 0\n",
    "while z < 8:\n",
    "    print(\"Angka \" + str(z) +\" masih dibawah 8\")\n",
    "    z +=1"
   ]
  },
  {
   "cell_type": "code",
   "execution_count": 3,
   "id": "dc2ddec9",
   "metadata": {},
   "outputs": [
    {
     "name": "stdout",
     "output_type": "stream",
     "text": [
      "Program Bilangan Bulat 1 hingga x\n",
      "Masukkan Bilangan Bulat x = 8\n",
      "1\n",
      "2\n",
      "3\n",
      "4\n",
      "5\n",
      "6\n",
      "7\n",
      "8\n"
     ]
    }
   ],
   "source": [
    "print(\"Program Bilangan Bulat 1 hingga x\")\n",
    "i =1;\n",
    "x =int(input(\"Masukkan Bilangan Bulat x = \"))\n",
    "\n",
    "while i <= x:\n",
    "    print(i);\n",
    "    i=i+1;\n",
    "#saya mencoba menggabungkan antara print,int dan while"
   ]
  },
  {
   "cell_type": "code",
   "execution_count": 1,
   "id": "f12b8361",
   "metadata": {},
   "outputs": [
    {
     "name": "stdout",
     "output_type": "stream",
     "text": [
      "\n",
      "*\n",
      "**\n",
      "***\n",
      "****\n",
      "*****\n",
      "******\n"
     ]
    }
   ],
   "source": [
    "a = 0\n",
    "while a < 7:\n",
    "    print(a * '*')\n",
    "    a += 1"
   ]
  },
  {
   "cell_type": "markdown",
   "id": "236abef0",
   "metadata": {},
   "source": [
    "5.12 LIST"
   ]
  },
  {
   "cell_type": "code",
   "execution_count": 10,
   "id": "9f2bc6e8",
   "metadata": {},
   "outputs": [
    {
     "name": "stdout",
     "output_type": "stream",
     "text": [
      "18\n",
      "amelia\n"
     ]
    }
   ],
   "source": [
    "-> Contoh 1\n",
    "print(listumur)    #list dengan data tunggal bertipe data integer\n",
    "\n",
    "listnama = \"amelia\"\n",
    "print(listnama)    #list dengan data tunggal bertipe data string"
   ]
  },
  {
   "cell_type": "code",
   "execution_count": 13,
   "id": "79b6fce3",
   "metadata": {},
   "outputs": [
    {
     "name": "stdout",
     "output_type": "stream",
     "text": [
      "[67, 100, 80, 98, 78, 60]\n",
      "[1, 2, 'a', 3, 'halo', 'True', 4, 5, 'False', 3.14]\n"
     ]
    }
   ],
   "source": [
    "-> Contoh 2\n",
    "listnilai = [67,100,80,98,78,60] #list dengan banyak integer dengan ',' sebagai tanda pemisah\n",
    "print(listnilai)\n",
    "\n",
    "listsaya = [1,2,'a',3,'halo',True,4,5,False,3.14]\n",
    "print(listsaya)\n",
    "#list dengan penggabungan tipe data\n",
    "~ 1,2,3,4,5 adalah tipe data integer\n",
    "~ 'a','halo'adalah tipe data string\n",
    "~ True,False adalah tipe data Boolean\n",
    "~ 3.14 adalah tipe data float atau decimal"
   ]
  },
  {
   "cell_type": "code",
   "execution_count": 15,
   "id": "ce30adfd",
   "metadata": {},
   "outputs": [
    {
     "name": "stdout",
     "output_type": "stream",
     "text": [
      "['singa', 'kuda nil', 'harimau', 'babi', 'anjing']\n",
      "singa\n",
      "babi\n",
      "anjing\n"
     ]
    }
   ],
   "source": [
    "-> Contoh 3\n",
    "#Cara mengambil nilai didalam list.\n",
    "#Inget mel index dimulai dari 0,dan juga dapat memulai dari akhir list yang dimulai dari -1\n",
    "hewan = ['singa', 'kuda nil', 'harimau', 'babi', 'anjing']\n",
    "print (hewan)     # mencetak semua index \n",
    "print (hewan[0])  # mencetak data ke 0\n",
    "print (hewan[3])  # mencetak data ke 3\n",
    "print (hewan[-1]) # mencetak data -1"
   ]
  },
  {
   "cell_type": "markdown",
   "id": "270b32c1",
   "metadata": {},
   "source": [
    "5.13 METODE LIST"
   ]
  },
  {
   "cell_type": "code",
   "execution_count": 2,
   "id": "f7cfe5a6",
   "metadata": {},
   "outputs": [
    {
     "name": "stdout",
     "output_type": "stream",
     "text": [
      "['singa', 'kuda nil', 'harimau', 'babi', 'anjing']\n",
      "babi\n",
      "anjing\n",
      "singa\n"
     ]
    }
   ],
   "source": [
    "hewan = ['singa', 'kuda nil', 'harimau', 'babi', 'anjing']\n",
    "print(hewan)\n",
    "print(hewan[3])\n",
    "print(hewan[4])\n",
    "print(hewan[0])"
   ]
  },
  {
   "cell_type": "code",
   "execution_count": 1,
   "id": "5772690c",
   "metadata": {},
   "outputs": [
    {
     "name": "stdout",
     "output_type": "stream",
     "text": [
      "['amelia', 'nur', 'risma', 'riska', 'ana']\n"
     ]
    }
   ],
   "source": [
    "nama = ['amelia','nur','risma','riska']\n",
    "nama.append('ana') #menambahkan (ana) dalam class nama\n",
    "print(nama)"
   ]
  },
  {
   "cell_type": "code",
   "execution_count": 2,
   "id": "da46335d",
   "metadata": {},
   "outputs": [
    {
     "name": "stdout",
     "output_type": "stream",
     "text": [
      "['amelia', 'wulan', 'nur', 'risma', 'riska', 'ana']\n"
     ]
    }
   ],
   "source": [
    "nama.insert(1,'wulan') #menambahkan kata (wulan) pada urutan yg kita inginkan.\n",
    "print(nama)"
   ]
  },
  {
   "cell_type": "code",
   "execution_count": 3,
   "id": "d0e2cd3c",
   "metadata": {},
   "outputs": [
    {
     "name": "stdout",
     "output_type": "stream",
     "text": [
      "['amelia', 'wulan', 'risma', 'riska', 'ana']\n"
     ]
    }
   ],
   "source": [
    "nama.remove('nur') #menghapus kata (nur)\n",
    "print(nama)"
   ]
  },
  {
   "cell_type": "code",
   "execution_count": 4,
   "id": "4174aa14",
   "metadata": {},
   "outputs": [
    {
     "name": "stdout",
     "output_type": "stream",
     "text": [
      "False\n"
     ]
    }
   ],
   "source": [
    "print('nur' in nama) #false,karena (nur) sudah kita hapus pada class diatas. "
   ]
  },
  {
   "cell_type": "code",
   "execution_count": 5,
   "id": "612854f8",
   "metadata": {},
   "outputs": [
    {
     "name": "stdout",
     "output_type": "stream",
     "text": [
      "True\n"
     ]
    }
   ],
   "source": [
    "print('amelia' in nama) # mengetahui kebenaran tentang kata yg di inginkan"
   ]
  },
  {
   "cell_type": "code",
   "execution_count": 6,
   "id": "f1d61e22",
   "metadata": {},
   "outputs": [
    {
     "name": "stdout",
     "output_type": "stream",
     "text": [
      "5\n"
     ]
    }
   ],
   "source": [
    "print(len(nama)) #menghitung jumlah kata yang ada pada class (nama)"
   ]
  },
  {
   "cell_type": "markdown",
   "id": "67edb87d",
   "metadata": {},
   "source": [
    "5.14 FOR LOOP "
   ]
  },
  {
   "cell_type": "code",
   "execution_count": 8,
   "id": "c17cc5b6",
   "metadata": {},
   "outputs": [
    {
     "name": "stdout",
     "output_type": "stream",
     "text": [
      "senin\n",
      "selasa\n",
      "rabu\n",
      "kamis\n",
      "jumat\n",
      "sabtu\n"
     ]
    }
   ],
   "source": [
    "hari =['senin', 'selasa', 'rabu', 'kamis', 'jumat', 'sabtu']\n",
    "for padet in hari:\n",
    "    print(padet)\n"
   ]
  },
  {
   "cell_type": "code",
   "execution_count": 17,
   "id": "9756a9bb",
   "metadata": {},
   "outputs": [
    {
     "name": "stdout",
     "output_type": "stream",
     "text": [
      "yellow manggo\n",
      "yellow banana\n",
      "yellow apple\n",
      "black manggo\n",
      "black banana\n",
      "black apple\n",
      "green manggo\n",
      "green banana\n",
      "green apple\n",
      "purple manggo\n",
      "purple banana\n",
      "purple apple\n"
     ]
    }
   ],
   "source": [
    "colours = ['yellow','black','green','purple']\n",
    "fruits = ['manggo','banana','apple']\n",
    "for x in colours:\n",
    "    for y in fruits:\n",
    "        print(x,y)\n",
    "#loop akan di cetak sekali untuk setiap index dari loop luar"
   ]
  },
  {
   "cell_type": "code",
   "execution_count": 10,
   "id": "264099a7",
   "metadata": {},
   "outputs": [
    {
     "name": "stdout",
     "output_type": "stream",
     "text": [
      "senin\n",
      "selasa\n",
      "rabu\n",
      "kamis\n",
      "jumat\n",
      "sabtu\n"
     ]
    }
   ],
   "source": [
    "y = 0\n",
    "while y < len(hari):\n",
    "    print(hari[y])\n",
    "    y+=1"
   ]
  },
  {
   "cell_type": "code",
   "execution_count": 23,
   "id": "26779d88",
   "metadata": {},
   "outputs": [
    {
     "name": "stdout",
     "output_type": "stream",
     "text": [
      "[1]\n",
      "[1, 4]\n",
      "[1, 4, 9]\n",
      "[1, 4, 9, 16]\n",
      "[1, 4, 9, 16, 81]\n",
      "[1, 4, 9, 16, 81, 256]\n"
     ]
    }
   ],
   "source": [
    "nilai = [1,2,3,4,9,16]\n",
    "b=[]\n",
    "for i in nilai:\n",
    "    b.append (i**2)\n",
    "    print(b)\n",
    "# contoh untuk membuat daftar baru yang akan menyimpan kotak elemen dari daftar sebelumnya."
   ]
  },
  {
   "cell_type": "markdown",
   "id": "5a1c0dd9",
   "metadata": {},
   "source": [
    "5.15 FUNGSI RANGE"
   ]
  },
  {
   "cell_type": "code",
   "execution_count": 19,
   "id": "69f23316",
   "metadata": {},
   "outputs": [
    {
     "name": "stdout",
     "output_type": "stream",
     "text": [
      "range(0, 9)\n"
     ]
    }
   ],
   "source": [
    "nilai = range(9)\n",
    "print(nilai)"
   ]
  },
  {
   "cell_type": "code",
   "execution_count": 20,
   "id": "2a52e01f",
   "metadata": {},
   "outputs": [
    {
     "name": "stdout",
     "output_type": "stream",
     "text": [
      "0\n",
      "1\n",
      "2\n",
      "3\n",
      "4\n",
      "5\n",
      "6\n",
      "7\n",
      "8\n"
     ]
    }
   ],
   "source": [
    "for isi in nilai:\n",
    "    print(isi)"
   ]
  },
  {
   "cell_type": "code",
   "execution_count": 17,
   "id": "ba6b447d",
   "metadata": {},
   "outputs": [
    {
     "name": "stdout",
     "output_type": "stream",
     "text": [
      "0\n",
      "4\n",
      "8\n"
     ]
    }
   ],
   "source": [
    "for isi in range (0,12,4):\n",
    "    print(isi)\n",
    "#dimulai dari 0,kurang dari 12,dan kelipatan 4"
   ]
  },
  {
   "cell_type": "code",
   "execution_count": 18,
   "id": "f02b1e89",
   "metadata": {},
   "outputs": [
    {
     "name": "stdout",
     "output_type": "stream",
     "text": [
      "6\n",
      "7\n",
      "8\n",
      "9\n"
     ]
    }
   ],
   "source": [
    "for isi in range (6,10):\n",
    "    print(isi)\n",
    "#dimulai dari 6 dan kurang dari 10"
   ]
  },
  {
   "cell_type": "code",
   "execution_count": 26,
   "id": "5f5d418c",
   "metadata": {},
   "outputs": [
    {
     "name": "stdout",
     "output_type": "stream",
     "text": [
      "1  x  1  =  1\n",
      "2  x  2  =  4\n",
      "3  x  3  =  9\n",
      "4  x  4  =  16\n",
      "5  x  5  =  25\n",
      "6  x  6  =  36\n",
      "7  x  7  =  49\n",
      "9  x  9  =  81\n",
      "10  x  10  =  100\n"
     ]
    }
   ],
   "source": [
    "for i in range(1,11):\n",
    "    if i == 8:\n",
    "        continue\n",
    "    print(i,' x ',i,' = ',i*i)\n",
    "#saya mencoba kode perulangan for dan range untuk menghasilkan daftar perkalian mulai dari 1x1 hingga 11x11"
   ]
  },
  {
   "cell_type": "code",
   "execution_count": null,
   "id": "9b196d59",
   "metadata": {},
   "outputs": [],
   "source": []
  }
 ],
 "metadata": {
  "kernelspec": {
   "display_name": "Python 3 (ipykernel)",
   "language": "python",
   "name": "python3"
  },
  "language_info": {
   "codemirror_mode": {
    "name": "ipython",
    "version": 3
   },
   "file_extension": ".py",
   "mimetype": "text/x-python",
   "name": "python",
   "nbconvert_exporter": "python",
   "pygments_lexer": "ipython3",
   "version": "3.9.13"
  }
 },
 "nbformat": 4,
 "nbformat_minor": 5
}
